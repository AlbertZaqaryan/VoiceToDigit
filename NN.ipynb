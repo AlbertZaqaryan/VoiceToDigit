{
 "cells": [
  {
   "cell_type": "code",
   "execution_count": 2,
   "id": "4a9a85d8-2550-43c1-9e76-e59a764dd396",
   "metadata": {},
   "outputs": [
    {
     "name": "stdout",
     "output_type": "stream",
     "text": [
      "Collecting librosa\n",
      "  Using cached librosa-0.11.0-py3-none-any.whl.metadata (8.7 kB)\n",
      "Collecting audioread>=2.1.9 (from librosa)\n",
      "  Using cached audioread-3.0.1-py3-none-any.whl.metadata (8.4 kB)\n",
      "Collecting numba>=0.51.0 (from librosa)\n",
      "  Using cached numba-0.61.2-cp311-cp311-win_amd64.whl.metadata (2.9 kB)\n",
      "Requirement already satisfied: numpy>=1.22.3 in c:\\users\\asus\\desktop\\ml_14-45\\venv\\lib\\site-packages (from librosa) (2.1.3)\n",
      "Requirement already satisfied: scipy>=1.6.0 in c:\\users\\asus\\desktop\\ml_14-45\\venv\\lib\\site-packages (from librosa) (1.15.2)\n",
      "Requirement already satisfied: scikit-learn>=1.1.0 in c:\\users\\asus\\desktop\\ml_14-45\\venv\\lib\\site-packages (from librosa) (1.6.1)\n",
      "Requirement already satisfied: joblib>=1.0 in c:\\users\\asus\\desktop\\ml_14-45\\venv\\lib\\site-packages (from librosa) (1.5.0)\n",
      "Requirement already satisfied: decorator>=4.3.0 in c:\\users\\asus\\desktop\\ml_14-45\\venv\\lib\\site-packages (from librosa) (5.2.1)\n",
      "Collecting soundfile>=0.12.1 (from librosa)\n",
      "  Using cached soundfile-0.13.1-py2.py3-none-win_amd64.whl.metadata (16 kB)\n",
      "Collecting pooch>=1.1 (from librosa)\n",
      "  Using cached pooch-1.8.2-py3-none-any.whl.metadata (10 kB)\n",
      "Collecting soxr>=0.3.2 (from librosa)\n",
      "  Using cached soxr-0.5.0.post1-cp311-cp311-win_amd64.whl.metadata (5.6 kB)\n",
      "Requirement already satisfied: typing_extensions>=4.1.1 in c:\\users\\asus\\desktop\\ml_14-45\\venv\\lib\\site-packages (from librosa) (4.13.2)\n",
      "Collecting lazy_loader>=0.1 (from librosa)\n",
      "  Using cached lazy_loader-0.4-py3-none-any.whl.metadata (7.6 kB)\n",
      "Collecting msgpack>=1.0 (from librosa)\n",
      "  Using cached msgpack-1.1.1-cp311-cp311-win_amd64.whl.metadata (8.6 kB)\n",
      "Requirement already satisfied: packaging in c:\\users\\asus\\desktop\\ml_14-45\\venv\\lib\\site-packages (from lazy_loader>=0.1->librosa) (25.0)\n",
      "Collecting llvmlite<0.45,>=0.44.0dev0 (from numba>=0.51.0->librosa)\n",
      "  Using cached llvmlite-0.44.0-cp311-cp311-win_amd64.whl.metadata (5.0 kB)\n",
      "Requirement already satisfied: platformdirs>=2.5.0 in c:\\users\\asus\\desktop\\ml_14-45\\venv\\lib\\site-packages (from pooch>=1.1->librosa) (4.3.7)\n",
      "Requirement already satisfied: requests>=2.19.0 in c:\\users\\asus\\desktop\\ml_14-45\\venv\\lib\\site-packages (from pooch>=1.1->librosa) (2.32.3)\n",
      "Requirement already satisfied: charset-normalizer<4,>=2 in c:\\users\\asus\\desktop\\ml_14-45\\venv\\lib\\site-packages (from requests>=2.19.0->pooch>=1.1->librosa) (3.4.2)\n",
      "Requirement already satisfied: idna<4,>=2.5 in c:\\users\\asus\\desktop\\ml_14-45\\venv\\lib\\site-packages (from requests>=2.19.0->pooch>=1.1->librosa) (3.10)\n",
      "Requirement already satisfied: urllib3<3,>=1.21.1 in c:\\users\\asus\\desktop\\ml_14-45\\venv\\lib\\site-packages (from requests>=2.19.0->pooch>=1.1->librosa) (2.4.0)\n",
      "Requirement already satisfied: certifi>=2017.4.17 in c:\\users\\asus\\desktop\\ml_14-45\\venv\\lib\\site-packages (from requests>=2.19.0->pooch>=1.1->librosa) (2025.4.26)\n",
      "Requirement already satisfied: threadpoolctl>=3.1.0 in c:\\users\\asus\\desktop\\ml_14-45\\venv\\lib\\site-packages (from scikit-learn>=1.1.0->librosa) (3.6.0)\n",
      "Requirement already satisfied: cffi>=1.0 in c:\\users\\asus\\desktop\\ml_14-45\\venv\\lib\\site-packages (from soundfile>=0.12.1->librosa) (1.17.1)\n",
      "Requirement already satisfied: pycparser in c:\\users\\asus\\desktop\\ml_14-45\\venv\\lib\\site-packages (from cffi>=1.0->soundfile>=0.12.1->librosa) (2.22)\n",
      "Using cached librosa-0.11.0-py3-none-any.whl (260 kB)\n",
      "Using cached audioread-3.0.1-py3-none-any.whl (23 kB)\n",
      "Using cached lazy_loader-0.4-py3-none-any.whl (12 kB)\n",
      "Using cached msgpack-1.1.1-cp311-cp311-win_amd64.whl (72 kB)\n",
      "Using cached numba-0.61.2-cp311-cp311-win_amd64.whl (2.8 MB)\n",
      "Using cached llvmlite-0.44.0-cp311-cp311-win_amd64.whl (30.3 MB)\n",
      "Using cached pooch-1.8.2-py3-none-any.whl (64 kB)\n",
      "Using cached soundfile-0.13.1-py2.py3-none-win_amd64.whl (1.0 MB)\n",
      "Using cached soxr-0.5.0.post1-cp311-cp311-win_amd64.whl (166 kB)\n",
      "Installing collected packages: soxr, msgpack, llvmlite, lazy_loader, audioread, soundfile, pooch, numba, librosa\n",
      "\n",
      "   -------- ------------------------------- 2/9 [llvmlite]\n",
      "   -------- ------------------------------- 2/9 [llvmlite]\n",
      "   -------- ------------------------------- 2/9 [llvmlite]\n",
      "   -------- ------------------------------- 2/9 [llvmlite]\n",
      "   -------- ------------------------------- 2/9 [llvmlite]\n",
      "   -------- ------------------------------- 2/9 [llvmlite]\n",
      "   ----------------- ---------------------- 4/9 [audioread]\n",
      "   -------------------------- ------------- 6/9 [pooch]\n",
      "   ------------------------------- -------- 7/9 [numba]\n",
      "   ------------------------------- -------- 7/9 [numba]\n",
      "   ------------------------------- -------- 7/9 [numba]\n",
      "   ------------------------------- -------- 7/9 [numba]\n",
      "   ------------------------------- -------- 7/9 [numba]\n",
      "   ------------------------------- -------- 7/9 [numba]\n",
      "   ------------------------------- -------- 7/9 [numba]\n",
      "   ------------------------------- -------- 7/9 [numba]\n",
      "   ------------------------------- -------- 7/9 [numba]\n",
      "   ------------------------------- -------- 7/9 [numba]\n",
      "   ------------------------------- -------- 7/9 [numba]\n",
      "   ------------------------------- -------- 7/9 [numba]\n",
      "   ------------------------------- -------- 7/9 [numba]\n",
      "   ------------------------------- -------- 7/9 [numba]\n",
      "   ------------------------------- -------- 7/9 [numba]\n",
      "   ------------------------------- -------- 7/9 [numba]\n",
      "   ------------------------------- -------- 7/9 [numba]\n",
      "   ------------------------------- -------- 7/9 [numba]\n",
      "   ------------------------------- -------- 7/9 [numba]\n",
      "   ------------------------------- -------- 7/9 [numba]\n",
      "   ------------------------------- -------- 7/9 [numba]\n",
      "   ------------------------------- -------- 7/9 [numba]\n",
      "   ------------------------------- -------- 7/9 [numba]\n",
      "   ------------------------------- -------- 7/9 [numba]\n",
      "   ------------------------------- -------- 7/9 [numba]\n",
      "   ------------------------------- -------- 7/9 [numba]\n",
      "   ------------------------------- -------- 7/9 [numba]\n",
      "   ------------------------------- -------- 7/9 [numba]\n",
      "   ------------------------------- -------- 7/9 [numba]\n",
      "   ------------------------------- -------- 7/9 [numba]\n",
      "   ------------------------------- -------- 7/9 [numba]\n",
      "   ------------------------------- -------- 7/9 [numba]\n",
      "   ------------------------------- -------- 7/9 [numba]\n",
      "   ------------------------------- -------- 7/9 [numba]\n",
      "   ------------------------------- -------- 7/9 [numba]\n",
      "   ------------------------------- -------- 7/9 [numba]\n",
      "   ------------------------------- -------- 7/9 [numba]\n",
      "   ------------------------------- -------- 7/9 [numba]\n",
      "   ------------------------------- -------- 7/9 [numba]\n",
      "   ------------------------------- -------- 7/9 [numba]\n",
      "   ------------------------------- -------- 7/9 [numba]\n",
      "   ------------------------------- -------- 7/9 [numba]\n",
      "   ------------------------------- -------- 7/9 [numba]\n",
      "   ------------------------------- -------- 7/9 [numba]\n",
      "   ------------------------------- -------- 7/9 [numba]\n",
      "   ------------------------------- -------- 7/9 [numba]\n",
      "   ------------------------------- -------- 7/9 [numba]\n",
      "   ------------------------------- -------- 7/9 [numba]\n",
      "   ------------------------------- -------- 7/9 [numba]\n",
      "   ------------------------------- -------- 7/9 [numba]\n",
      "   ------------------------------- -------- 7/9 [numba]\n",
      "   ------------------------------- -------- 7/9 [numba]\n",
      "   ------------------------------- -------- 7/9 [numba]\n",
      "   ------------------------------- -------- 7/9 [numba]\n",
      "   ------------------------------- -------- 7/9 [numba]\n",
      "   ------------------------------- -------- 7/9 [numba]\n",
      "   ------------------------------- -------- 7/9 [numba]\n",
      "   ------------------------------- -------- 7/9 [numba]\n",
      "   ------------------------------- -------- 7/9 [numba]\n",
      "   ----------------------------------- ---- 8/9 [librosa]\n",
      "   ----------------------------------- ---- 8/9 [librosa]\n",
      "   ----------------------------------- ---- 8/9 [librosa]\n",
      "   ---------------------------------------- 9/9 [librosa]\n",
      "\n",
      "Successfully installed audioread-3.0.1 lazy_loader-0.4 librosa-0.11.0 llvmlite-0.44.0 msgpack-1.1.1 numba-0.61.2 pooch-1.8.2 soundfile-0.13.1 soxr-0.5.0.post1\n"
     ]
    },
    {
     "name": "stderr",
     "output_type": "stream",
     "text": [
      "\n",
      "[notice] A new release of pip is available: 25.1.1 -> 25.2\n",
      "[notice] To update, run: python.exe -m pip install --upgrade pip\n"
     ]
    }
   ],
   "source": [
    "!pip install librosa"
   ]
  },
  {
   "cell_type": "code",
   "execution_count": 1,
   "id": "3314f17d-6f4f-45e9-a4f1-181bd24e9d58",
   "metadata": {},
   "outputs": [],
   "source": [
    "import numpy as np\n",
    "import pandas as pd\n",
    "import seaborn as sns\n",
    "import matplotlib.pyplot as plt\n",
    "import matplotlib.image as mpimg\n",
    "import os\n",
    "import librosa\n",
    "import librosa.display"
   ]
  },
  {
   "cell_type": "code",
   "execution_count": 2,
   "id": "e47665aa-c7da-4960-81f2-6db3036a1501",
   "metadata": {},
   "outputs": [
    {
     "data": {
      "image/png": "[encoded data removed]",
      "text/plain": [
       "<Figure size 1000x400 with 2 Axes>"
      ]
     },
     "metadata": {},
     "output_type": "display_data"
    }
   ],
   "source": [
    "def audio_to_mel_spectrogram(file_path, sr=16000, n_mels=128, max_len=10):\n",
    "    # 1. Загрузка аудио\n",
    "    y, _ = librosa.load(file_path, sr=sr)\n",
    "    # 2. Преобразуем в Mel-спектрограмму (частоты воспринимаются как у человека)\n",
    "    mel_spec = librosa.feature.melspectrogram(y=y, sr=sr, n_mels=n_mels)\n",
    "    # 3. Переводим в логарифмическую шкалу\n",
    "    log_mel_spec = librosa.power_to_db(mel_spec, ref=np.max)  # (n_mels, time)\n",
    "    # 4. Транспонируем, чтобы получилось: (время, частоты)\n",
    "    log_mel_spec = log_mel_spec.T\n",
    "    # 5. Паддинг до одинаковой длины (если нужно)\n",
    "    if log_mel_spec.shape[0] < max_len:\n",
    "        pad_width = max_len - log_mel_spec.shape[0]\n",
    "        log_mel_spec = np.pad(log_mel_spec, ((0, pad_width), (0, 0)))\n",
    "    else:\n",
    "        log_mel_spec = log_mel_spec[:max_len, :]\n",
    "    return log_mel_spec  # shape: (max_len, n_mels)\n",
    "# :test_tube: Пример:\n",
    "spec = audio_to_mel_spectrogram(\"recordings/1_jackson_23.wav\")\n",
    "# Визуализация\n",
    "plt.figure(figsize=(10, 4))\n",
    "librosa.display.specshow(spec.T, sr=16000, hop_length=512, x_axis='time', y_axis='mel')\n",
    "plt.title(\"Mel Spectrogram\")\n",
    "plt.colorbar(format='%+2.0f dB')\n",
    "plt.tight_layout()\n",
    "plt.show()"
   ]
  },
  {
   "cell_type": "code",
   "execution_count": 3,
   "id": "fc5a0d32-f10b-4b2b-bd1b-11ec87466274",
   "metadata": {},
   "outputs": [],
   "source": [
    "def audio_to_mel_spectrogram(file_path, sr=16000, n_mels=128, max_len=10):\n",
    "    # 1. Загрузка аудио\n",
    "    y, _ = librosa.load(file_path, sr=sr)\n",
    "    # 2. Преобразуем в Mel-спектрограмму (частоты воспринимаются как у человека)\n",
    "    mel_spec = librosa.feature.melspectrogram(y=y, sr=sr, n_mels=n_mels)\n",
    "    # 3. Переводим в логарифмическую шкалу\n",
    "    log_mel_spec = librosa.power_to_db(mel_spec, ref=np.max)  # (n_mels, time)\n",
    "    # 4. Транспонируем, чтобы получилось: (время, частоты)\n",
    "    log_mel_spec = log_mel_spec.T\n",
    "    # 5. Паддинг до одинаковой длины (если нужно)\n",
    "    if log_mel_spec.shape[0] < max_len:\n",
    "        pad_width = max_len - log_mel_spec.shape[0]\n",
    "        log_mel_spec = np.pad(log_mel_spec, ((0, pad_width), (0, 0)))\n",
    "    else:\n",
    "        log_mel_spec = log_mel_spec[:max_len, :]\n",
    "    return log_mel_spec  # shape: (max_len, n_mels)\n",
    "X = []\n",
    "y = []\n",
    "for i in os.listdir('recordings/'):\n",
    "    X.append(audio_to_mel_spectrogram(f'recordings/{i}'))\n",
    "    y.append(int(i[0]))\n",
    "X = np.array(X)\n",
    "y = np.array(y)"
   ]
  },
  {
   "cell_type": "code",
   "execution_count": 4,
   "id": "6043ede5-4f92-48d3-ac04-f1992e4bb50d",
   "metadata": {},
   "outputs": [
    {
     "data": {
      "text/plain": [
       "array([[[-34.683273, -34.334595, -33.760082, ..., -67.25629 ,\n",
       "         -67.29531 , -67.32199 ],\n",
       "        [-40.617905, -40.301895, -39.7489  , ..., -73.29461 ,\n",
       "         -73.3336  , -73.360245],\n",
       "        [-80.      , -80.      , -80.      , ..., -80.      ,\n",
       "         -80.      , -80.      ],\n",
       "        ...,\n",
       "        [-80.      , -80.      , -80.      , ..., -80.      ,\n",
       "         -80.      , -80.      ],\n",
       "        [-52.50506 , -52.259567, -51.797264, ..., -80.      ,\n",
       "         -80.      , -80.      ],\n",
       "        [-41.227165, -40.988125, -40.475872, ..., -80.      ,\n",
       "         -80.      , -80.      ]],\n",
       "\n",
       "       [[-57.321854, -56.73967 , -55.80873 , ..., -80.      ,\n",
       "         -80.      , -80.      ],\n",
       "        [-62.867027, -62.999252, -62.03859 , ..., -80.      ,\n",
       "         -80.      , -80.      ],\n",
       "        [-76.33015 , -80.      , -80.      , ..., -80.      ,\n",
       "         -80.      , -80.      ],\n",
       "        ...,\n",
       "        [-76.635635, -80.      , -80.      , ..., -80.      ,\n",
       "         -80.      , -80.      ],\n",
       "        [-76.12612 , -80.      , -80.      , ..., -80.      ,\n",
       "         -80.      , -80.      ],\n",
       "        [-76.52312 , -80.      , -80.      , ..., -80.      ,\n",
       "         -80.      , -80.      ]],\n",
       "\n",
       "       [[-66.555565, -67.59027 , -68.26045 , ..., -80.      ,\n",
       "         -80.      , -80.      ],\n",
       "        [-72.58675 , -73.71068 , -74.162605, ..., -80.      ,\n",
       "         -80.      , -80.      ],\n",
       "        [-78.541435, -80.      , -80.      , ..., -80.      ,\n",
       "         -80.      , -80.      ],\n",
       "        ...,\n",
       "        [-78.48972 , -80.      , -80.      , ..., -80.      ,\n",
       "         -80.      , -80.      ],\n",
       "        [-78.46505 , -80.      , -80.      , ..., -80.      ,\n",
       "         -80.      , -80.      ],\n",
       "        [-78.5657  , -80.      , -80.      , ..., -80.      ,\n",
       "         -80.      , -80.      ]],\n",
       "\n",
       "       ...,\n",
       "\n",
       "       [[-46.173508, -41.995056, -36.61349 , ..., -80.      ,\n",
       "         -80.      , -80.      ],\n",
       "        [-46.048355, -42.291588, -36.941193, ..., -80.      ,\n",
       "         -80.      , -80.      ],\n",
       "        [-54.425484, -51.82168 , -49.81642 , ..., -80.      ,\n",
       "         -80.      , -80.      ],\n",
       "        ...,\n",
       "        [-54.539703, -52.99139 , -44.306465, ..., -80.      ,\n",
       "         -80.      , -80.      ],\n",
       "        [-54.976704, -53.943245, -45.717693, ..., -80.      ,\n",
       "         -80.      , -80.      ],\n",
       "        [-56.75707 , -56.16893 , -46.848167, ..., -80.      ,\n",
       "         -80.      , -80.      ]],\n",
       "\n",
       "       [[-42.805317, -36.274345, -31.081059, ..., -80.      ,\n",
       "         -80.      , -80.      ],\n",
       "        [-37.70603 , -31.268291, -27.6656  , ..., -80.      ,\n",
       "         -80.      , -80.      ],\n",
       "        [-42.790886, -36.511513, -31.505192, ..., -80.      ,\n",
       "         -80.      , -80.      ],\n",
       "        ...,\n",
       "        [-41.09045 , -42.177303, -43.206894, ..., -80.      ,\n",
       "         -80.      , -80.      ],\n",
       "        [-44.372322, -40.77068 , -39.065468, ..., -80.      ,\n",
       "         -80.      , -80.      ],\n",
       "        [-46.991856, -43.920708, -41.0812  , ..., -80.      ,\n",
       "         -80.      , -80.      ]],\n",
       "\n",
       "       [[-35.226875, -34.237026, -31.155052, ..., -80.      ,\n",
       "         -80.      , -80.      ],\n",
       "        [-32.595306, -32.565872, -29.036564, ..., -80.      ,\n",
       "         -80.      , -80.      ],\n",
       "        [-42.382126, -39.988773, -37.219353, ..., -80.      ,\n",
       "         -80.      , -80.      ],\n",
       "        ...,\n",
       "        [-49.877934, -41.688885, -44.55162 , ..., -80.      ,\n",
       "         -80.      , -80.      ],\n",
       "        [-47.890194, -43.34431 , -47.84708 , ..., -80.      ,\n",
       "         -80.      , -80.      ],\n",
       "        [-44.19715 , -40.276917, -44.431324, ..., -80.      ,\n",
       "         -80.      , -80.      ]]], dtype=float32)"
      ]
     },
     "execution_count": 4,
     "metadata": {},
     "output_type": "execute_result"
    }
   ],
   "source": [
    "X"
   ]
  },
  {
   "cell_type": "code",
   "execution_count": 5,
   "id": "068bd6e3-e9d0-4496-a46c-aa43804033cd",
   "metadata": {},
   "outputs": [
    {
     "data": {
      "text/plain": [
       "array([0, 0, 0, ..., 9, 9, 9])"
      ]
     },
     "execution_count": 5,
     "metadata": {},
     "output_type": "execute_result"
    }
   ],
   "source": [
    "y"
   ]
  },
  {
   "cell_type": "code",
   "execution_count": 6,
   "id": "86c8d9f8-0bec-4a10-99af-6c97118b9c3f",
   "metadata": {},
   "outputs": [
    {
     "data": {
      "text/plain": [
       "(3000, 10, 128)"
      ]
     },
     "execution_count": 6,
     "metadata": {},
     "output_type": "execute_result"
    }
   ],
   "source": [
    "X.shape"
   ]
  },
  {
   "cell_type": "code",
   "execution_count": 7,
   "id": "5cc144a2-c934-48ff-ae8b-f1bfa5e7007b",
   "metadata": {},
   "outputs": [
    {
     "data": {
      "text/plain": [
       "(3000,)"
      ]
     },
     "execution_count": 7,
     "metadata": {},
     "output_type": "execute_result"
    }
   ],
   "source": [
    "y.shape"
   ]
  },
  {
   "cell_type": "code",
   "execution_count": 8,
   "id": "b90603d8-c6b9-43fd-b3bd-41d0bb496989",
   "metadata": {},
   "outputs": [],
   "source": [
    "from keras.utils import to_categorical"
   ]
  },
  {
   "cell_type": "code",
   "execution_count": 9,
   "id": "0e3f511f-8149-42fb-a32e-55224b39e18c",
   "metadata": {},
   "outputs": [],
   "source": [
    "y = to_categorical(y, num_classes=10)"
   ]
  },
  {
   "cell_type": "code",
   "execution_count": 10,
   "id": "3c5163a0-8b7c-4178-a44b-c8bb188408dc",
   "metadata": {},
   "outputs": [
    {
     "data": {
      "text/plain": [
       "array([[1., 0., 0., ..., 0., 0., 0.],\n",
       "       [1., 0., 0., ..., 0., 0., 0.],\n",
       "       [1., 0., 0., ..., 0., 0., 0.],\n",
       "       ...,\n",
       "       [0., 0., 0., ..., 0., 0., 1.],\n",
       "       [0., 0., 0., ..., 0., 0., 1.],\n",
       "       [0., 0., 0., ..., 0., 0., 1.]])"
      ]
     },
     "execution_count": 10,
     "metadata": {},
     "output_type": "execute_result"
    }
   ],
   "source": [
    "y"
   ]
  },
  {
   "cell_type": "code",
   "execution_count": 11,
   "id": "ea3ea60c-d367-42c6-9e0a-dccf55152b75",
   "metadata": {},
   "outputs": [],
   "source": [
    "X = X.reshape(3000, 10, 128, 1)"
   ]
  },
  {
   "cell_type": "code",
   "execution_count": 12,
   "id": "8f85a9c3-7527-457f-88fe-e77b1d307e82",
   "metadata": {},
   "outputs": [],
   "source": [
    "from sklearn.model_selection import train_test_split"
   ]
  },
  {
   "cell_type": "code",
   "execution_count": 14,
   "id": "13880741-cba7-491b-85f1-54751400fdb0",
   "metadata": {},
   "outputs": [],
   "source": [
    "X_train, X_test, y_train, y_test = train_test_split(X, y, test_size=0.2, random_state=42)"
   ]
  },
  {
   "cell_type": "code",
   "execution_count": 15,
   "id": "fd38d25b-a762-4acb-ab58-7876d4206f55",
   "metadata": {},
   "outputs": [
    {
     "data": {
      "text/plain": [
       "(2400, 10, 128, 1)"
      ]
     },
     "execution_count": 15,
     "metadata": {},
     "output_type": "execute_result"
    }
   ],
   "source": [
    "X_train.shape"
   ]
  },
  {
   "cell_type": "code",
   "execution_count": 16,
   "id": "8118e258-bc02-4110-a538-05a1e74d32b1",
   "metadata": {},
   "outputs": [],
   "source": [
    "from keras import Sequential\n",
    "from keras.layers import Conv2D, MaxPooling2D, Flatten, Dense\n",
    "from keras.optimizers import Adam"
   ]
  },
  {
   "cell_type": "code",
   "execution_count": 17,
   "id": "9b1324ce-7518-4d1a-9791-78e65f0802af",
   "metadata": {},
   "outputs": [
    {
     "name": "stderr",
     "output_type": "stream",
     "text": [
      "C:\\Users\\ASUS\\Desktop\\ml_14-45\\venv\\Lib\\site-packages\\keras\\src\\layers\\convolutional\\base_conv.py:113: UserWarning: Do not pass an `input_shape`/`input_dim` argument to a layer. When using Sequential models, prefer using an `Input(shape)` object as the first layer in the model instead.\n",
      "  super().__init__(activity_regularizer=activity_regularizer, **kwargs)\n"
     ]
    }
   ],
   "source": [
    "model = Sequential()\n",
    "\n",
    "model.add(Conv2D(filters=32, kernel_size=(3, 3), activation='relu', padding='same', input_shape=(10, 128, 1)))\n",
    "model.add(MaxPooling2D(pool_size=(2, 2)))\n",
    "model.add(Conv2D(filters=32, kernel_size=(3, 3), activation='relu', padding='same'))\n",
    "model.add(MaxPooling2D(pool_size=(2, 2)))\n",
    "model.add(Flatten())\n",
    "model.add(Dense(units=64, activation='relu'))\n",
    "model.add(Dense(units=32, activation='relu'))\n",
    "model.add(Dense(units=10, activation='softmax'))"
   ]
  },
  {
   "cell_type": "code",
   "execution_count": 18,
   "id": "96e538c3-335c-439c-a71e-391a466eb29c",
   "metadata": {},
   "outputs": [],
   "source": [
    "model.compile(optimizer=Adam(learning_rate=0.0001), loss='categorical_crossentropy', metrics=['accuracy'])"
   ]
  },
  {
   "cell_type": "code",
   "execution_count": null,
   "id": "f4c68385-1b07-4105-9ff3-0c3293b47624",
   "metadata": {},
   "outputs": [
    {
     "name": "stdout",
     "output_type": "stream",
     "text": [
      "Epoch 1/50\n",
      "\u001b[1m75/75\u001b[0m \u001b[32m━━━━━━━━━━━━━━━━━━━━\u001b[0m\u001b[37m\u001b[0m \u001b[1m2s\u001b[0m 13ms/step - accuracy: 0.1213 - loss: 4.5778 - val_accuracy: 0.1967 - val_loss: 2.0897\n",
      "Epoch 2/50\n",
      "\u001b[1m75/75\u001b[0m \u001b[32m━━━━━━━━━━━━━━━━━━━━\u001b[0m\u001b[37m\u001b[0m \u001b[1m1s\u001b[0m 10ms/step - accuracy: 0.2838 - loss: 1.9967 - val_accuracy: 0.4400 - val_loss: 1.7154\n",
      "Epoch 3/50\n",
      "\u001b[1m75/75\u001b[0m \u001b[32m━━━━━━━━━━━━━━━━━━━━\u001b[0m\u001b[37m\u001b[0m \u001b[1m1s\u001b[0m 10ms/step - accuracy: 0.4464 - loss: 1.6437 - val_accuracy: 0.5500 - val_loss: 1.4472\n",
      "Epoch 4/50\n",
      "\u001b[1m75/75\u001b[0m \u001b[32m━━━━━━━━━━━━━━━━━━━━\u001b[0m\u001b[37m\u001b[0m \u001b[1m1s\u001b[0m 10ms/step - accuracy: 0.6042 - loss: 1.3175 - val_accuracy: 0.6133 - val_loss: 1.2260\n",
      "Epoch 5/50\n",
      "\u001b[1m75/75\u001b[0m \u001b[32m━━━━━━━━━━━━━━━━━━━━\u001b[0m\u001b[37m\u001b[0m \u001b[1m1s\u001b[0m 10ms/step - accuracy: 0.6808 - loss: 1.1117 - val_accuracy: 0.6817 - val_loss: 1.0130\n",
      "Epoch 6/50\n",
      "\u001b[1m75/75\u001b[0m \u001b[32m━━━━━━━━━━━━━━━━━━━━\u001b[0m\u001b[37m\u001b[0m \u001b[1m1s\u001b[0m 10ms/step - accuracy: 0.7282 - loss: 0.8941 - val_accuracy: 0.7300 - val_loss: 0.8833\n",
      "Epoch 7/50\n",
      "\u001b[1m75/75\u001b[0m \u001b[32m━━━━━━━━━━━━━━━━━━━━\u001b[0m\u001b[37m\u001b[0m \u001b[1m1s\u001b[0m 11ms/step - accuracy: 0.7617 - loss: 0.7969 - val_accuracy: 0.7400 - val_loss: 0.8485\n",
      "Epoch 8/50\n",
      "\u001b[1m75/75\u001b[0m \u001b[32m━━━━━━━━━━━━━━━━━━━━\u001b[0m\u001b[37m\u001b[0m \u001b[1m1s\u001b[0m 9ms/step - accuracy: 0.7971 - loss: 0.6561 - val_accuracy: 0.7983 - val_loss: 0.6608\n",
      "Epoch 9/50\n",
      "\u001b[1m75/75\u001b[0m \u001b[32m━━━━━━━━━━━━━━━━━━━━\u001b[0m\u001b[37m\u001b[0m \u001b[1m1s\u001b[0m 10ms/step - accuracy: 0.8447 - loss: 0.5511 - val_accuracy: 0.8167 - val_loss: 0.6343\n",
      "Epoch 10/50\n",
      "\u001b[1m75/75\u001b[0m \u001b[32m━━━━━━━━━━━━━━━━━━━━\u001b[0m\u001b[37m\u001b[0m \u001b[1m1s\u001b[0m 10ms/step - accuracy: 0.8464 - loss: 0.5276 - val_accuracy: 0.8350 - val_loss: 0.5462\n",
      "Epoch 11/50\n",
      "\u001b[1m75/75\u001b[0m \u001b[32m━━━━━━━━━━━━━━━━━━━━\u001b[0m\u001b[37m\u001b[0m \u001b[1m1s\u001b[0m 10ms/step - accuracy: 0.8794 - loss: 0.4273 - val_accuracy: 0.8817 - val_loss: 0.4727\n",
      "Epoch 12/50\n",
      "\u001b[1m75/75\u001b[0m \u001b[32m━━━━━━━━━━━━━━━━━━━━\u001b[0m\u001b[37m\u001b[0m \u001b[1m1s\u001b[0m 10ms/step - accuracy: 0.8938 - loss: 0.3866 - val_accuracy: 0.8800 - val_loss: 0.4397\n",
      "Epoch 13/50\n",
      "\u001b[1m75/75\u001b[0m \u001b[32m━━━━━━━━━━━━━━━━━━━━\u001b[0m\u001b[37m\u001b[0m \u001b[1m1s\u001b[0m 10ms/step - accuracy: 0.9042 - loss: 0.3512 - val_accuracy: 0.8950 - val_loss: 0.4090\n",
      "Epoch 14/50\n",
      "\u001b[1m75/75\u001b[0m \u001b[32m━━━━━━━━━━━━━━━━━━━━\u001b[0m\u001b[37m\u001b[0m \u001b[1m1s\u001b[0m 9ms/step - accuracy: 0.9151 - loss: 0.3099 - val_accuracy: 0.8417 - val_loss: 0.4970\n",
      "Epoch 15/50\n",
      "\u001b[1m75/75\u001b[0m \u001b[32m━━━━━━━━━━━━━━━━━━━━\u001b[0m\u001b[37m\u001b[0m \u001b[1m1s\u001b[0m 9ms/step - accuracy: 0.9032 - loss: 0.3162 - val_accuracy: 0.9050 - val_loss: 0.3793\n",
      "Epoch 16/50\n",
      "\u001b[1m75/75\u001b[0m \u001b[32m━━━━━━━━━━━━━━━━━━━━\u001b[0m\u001b[37m\u001b[0m \u001b[1m1s\u001b[0m 9ms/step - accuracy: 0.9215 - loss: 0.2810 - val_accuracy: 0.8900 - val_loss: 0.3830\n",
      "Epoch 17/50\n",
      "\u001b[1m75/75\u001b[0m \u001b[32m━━━━━━━━━━━━━━━━━━━━\u001b[0m\u001b[37m\u001b[0m \u001b[1m1s\u001b[0m 10ms/step - accuracy: 0.9471 - loss: 0.2184 - val_accuracy: 0.9150 - val_loss: 0.3116\n",
      "Epoch 18/50\n",
      "\u001b[1m75/75\u001b[0m \u001b[32m━━━━━━━━━━━━━━━━━━━━\u001b[0m\u001b[37m\u001b[0m \u001b[1m1s\u001b[0m 10ms/step - accuracy: 0.9410 - loss: 0.2192 - val_accuracy: 0.9150 - val_loss: 0.3195\n",
      "Epoch 19/50\n",
      "\u001b[1m75/75\u001b[0m \u001b[32m━━━━━━━━━━━━━━━━━━━━\u001b[0m\u001b[37m\u001b[0m \u001b[1m1s\u001b[0m 10ms/step - accuracy: 0.9400 - loss: 0.2109 - val_accuracy: 0.9283 - val_loss: 0.2956\n",
      "Epoch 20/50\n",
      "\u001b[1m75/75\u001b[0m \u001b[32m━━━━━━━━━━━━━━━━━━━━\u001b[0m\u001b[37m\u001b[0m \u001b[1m1s\u001b[0m 9ms/step - accuracy: 0.9471 - loss: 0.1858 - val_accuracy: 0.9133 - val_loss: 0.3064\n",
      "Epoch 21/50\n",
      "\u001b[1m75/75\u001b[0m \u001b[32m━━━━━━━━━━━━━━━━━━━━\u001b[0m\u001b[37m\u001b[0m \u001b[1m1s\u001b[0m 9ms/step - accuracy: 0.9608 - loss: 0.1671 - val_accuracy: 0.9267 - val_loss: 0.2763\n",
      "Epoch 22/50\n",
      "\u001b[1m75/75\u001b[0m \u001b[32m━━━━━━━━━━━━━━━━━━━━\u001b[0m\u001b[37m\u001b[0m \u001b[1m1s\u001b[0m 11ms/step - accuracy: 0.9636 - loss: 0.1497 - val_accuracy: 0.9233 - val_loss: 0.2937\n",
      "Epoch 23/50\n",
      "\u001b[1m75/75\u001b[0m \u001b[32m━━━━━━━━━━━━━━━━━━━━\u001b[0m\u001b[37m\u001b[0m \u001b[1m1s\u001b[0m 10ms/step - accuracy: 0.9665 - loss: 0.1376 - val_accuracy: 0.9300 - val_loss: 0.2719\n",
      "Epoch 24/50\n",
      "\u001b[1m75/75\u001b[0m \u001b[32m━━━━━━━━━━━━━━━━━━━━\u001b[0m\u001b[37m\u001b[0m \u001b[1m1s\u001b[0m 12ms/step - accuracy: 0.9703 - loss: 0.1345 - val_accuracy: 0.9367 - val_loss: 0.2564\n",
      "Epoch 25/50\n",
      "\u001b[1m75/75\u001b[0m \u001b[32m━━━━━━━━━━━━━━━━━━━━\u001b[0m\u001b[37m\u001b[0m \u001b[1m1s\u001b[0m 10ms/step - accuracy: 0.9750 - loss: 0.1221 - val_accuracy: 0.9467 - val_loss: 0.2327\n",
      "Epoch 26/50\n",
      "\u001b[1m75/75\u001b[0m \u001b[32m━━━━━━━━━━━━━━━━━━━━\u001b[0m\u001b[37m\u001b[0m \u001b[1m1s\u001b[0m 10ms/step - accuracy: 0.9689 - loss: 0.1240 - val_accuracy: 0.9333 - val_loss: 0.2472\n",
      "Epoch 27/50\n",
      "\u001b[1m75/75\u001b[0m \u001b[32m━━━━━━━━━━━━━━━━━━━━\u001b[0m\u001b[37m\u001b[0m \u001b[1m1s\u001b[0m 11ms/step - accuracy: 0.9608 - loss: 0.1421 - val_accuracy: 0.9400 - val_loss: 0.2395\n",
      "Epoch 28/50\n",
      "\u001b[1m75/75\u001b[0m \u001b[32m━━━━━━━━━━━━━━━━━━━━\u001b[0m\u001b[37m\u001b[0m \u001b[1m1s\u001b[0m 10ms/step - accuracy: 0.9819 - loss: 0.0931 - val_accuracy: 0.9417 - val_loss: 0.2380\n",
      "Epoch 29/50\n",
      "\u001b[1m75/75\u001b[0m \u001b[32m━━━━━━━━━━━━━━━━━━━━\u001b[0m\u001b[37m\u001b[0m \u001b[1m1s\u001b[0m 10ms/step - accuracy: 0.9748 - loss: 0.1049 - val_accuracy: 0.9417 - val_loss: 0.2348\n",
      "Epoch 30/50\n",
      "\u001b[1m75/75\u001b[0m \u001b[32m━━━━━━━━━━━━━━━━━━━━\u001b[0m\u001b[37m\u001b[0m \u001b[1m1s\u001b[0m 9ms/step - accuracy: 0.9770 - loss: 0.0969 - val_accuracy: 0.9417 - val_loss: 0.2191\n",
      "Epoch 31/50\n",
      "\u001b[1m75/75\u001b[0m \u001b[32m━━━━━━━━━━━━━━━━━━━━\u001b[0m\u001b[37m\u001b[0m \u001b[1m1s\u001b[0m 10ms/step - accuracy: 0.9791 - loss: 0.0917 - val_accuracy: 0.9433 - val_loss: 0.2140\n",
      "Epoch 32/50\n",
      "\u001b[1m75/75\u001b[0m \u001b[32m━━━━━━━━━━━━━━━━━━━━\u001b[0m\u001b[37m\u001b[0m \u001b[1m1s\u001b[0m 9ms/step - accuracy: 0.9815 - loss: 0.0776 - val_accuracy: 0.9333 - val_loss: 0.2211\n",
      "Epoch 33/50\n",
      "\u001b[1m75/75\u001b[0m \u001b[32m━━━━━━━━━━━━━━━━━━━━\u001b[0m\u001b[37m\u001b[0m \u001b[1m1s\u001b[0m 10ms/step - accuracy: 0.9758 - loss: 0.0890 - val_accuracy: 0.9450 - val_loss: 0.2035\n",
      "Epoch 34/50\n",
      "\u001b[1m75/75\u001b[0m \u001b[32m━━━━━━━━━━━━━━━━━━━━\u001b[0m\u001b[37m\u001b[0m \u001b[1m1s\u001b[0m 11ms/step - accuracy: 0.9790 - loss: 0.0786 - val_accuracy: 0.9350 - val_loss: 0.2354\n",
      "Epoch 35/50\n",
      "\u001b[1m75/75\u001b[0m \u001b[32m━━━━━━━━━━━━━━━━━━━━\u001b[0m\u001b[37m\u001b[0m \u001b[1m1s\u001b[0m 10ms/step - accuracy: 0.9834 - loss: 0.0757 - val_accuracy: 0.9383 - val_loss: 0.2460\n",
      "Epoch 36/50\n",
      "\u001b[1m75/75\u001b[0m \u001b[32m━━━━━━━━━━━━━━━━━━━━\u001b[0m\u001b[37m\u001b[0m \u001b[1m1s\u001b[0m 10ms/step - accuracy: 0.9888 - loss: 0.0622 - val_accuracy: 0.9417 - val_loss: 0.2110\n",
      "Epoch 37/50\n",
      "\u001b[1m13/75\u001b[0m \u001b[32m━━━\u001b[0m\u001b[37m━━━━━━━━━━━━━━━━━\u001b[0m \u001b[1m0s\u001b[0m 8ms/step - accuracy: 0.9871 - loss: 0.0641"
     ]
    }
   ],
   "source": [
    "model.fit(X_train, y_train, validation_data=(X_test, y_test), epochs=50)"
   ]
  },
  {
   "cell_type": "code",
   "execution_count": null,
   "id": "0d69e44a-ce64-4053-8935-04d079f83599",
   "metadata": {},
   "outputs": [],
   "source": [
    "import pickle\n",
    "\n",
    "with open('model.pkl', 'wb') as file:\n",
    "    pickle.d"
   ]
  },
  {
   "cell_type": "code",
   "execution_count": 23,
   "id": "4163a29f-7772-4d51-81f0-3ccd457f317b",
   "metadata": {},
   "outputs": [
    {
     "data": {
      "text/plain": [
       "[<matplotlib.lines.Line2D at 0x1653711e5d0>]"
      ]
     },
     "execution_count": 23,
     "metadata": {},
     "output_type": "execute_result"
    },
    {
     "data": {
      "image/png": "[encoded data removed]",
      "text/plain": [
       "<Figure size 640x480 with 1 Axes>"
      ]
     },
     "metadata": {},
     "output_type": "display_data"
    }
   ],
   "source": [
    "plt.plot(model.history.history['loss'])\n",
    "plt.plot(model.history.history['val_loss'])"
   ]
  },
  {
   "cell_type": "code",
   "execution_count": 25,
   "id": "06287dcb-79c9-4ffc-8493-18b8840cc0f1",
   "metadata": {},
   "outputs": [
    {
     "data": {
      "text/plain": [
       "[<matplotlib.lines.Line2D at 0x16537ac0390>]"
      ]
     },
     "execution_count": 25,
     "metadata": {},
     "output_type": "execute_result"
    },
    {
     "data": {
      "image/png": "[encoded data removed]",
      "text/plain": [
       "<Figure size 640x480 with 1 Axes>"
      ]
     },
     "metadata": {},
     "output_type": "display_data"
    }
   ],
   "source": [
    "plt.plot(model.history.history['accuracy'])\n",
    "plt.plot(model.history.history['val_accuracy'])"
   ]
  },
  {
   "cell_type": "code",
   "execution_count": null,
   "id": "05b11582-0957-46d7-83b7-cfee175464de",
   "metadata": {},
   "outputs": [],
   "source": []
  },
  {
   "cell_type": "code",
   "execution_count": 26,
   "id": "1de30151-f85d-4d21-ba47-187c2e8afad3",
   "metadata": {},
   "outputs": [
    {
     "data": {
      "image/png": "[encoded data removed]",
      "text/plain": [
       "<Figure size 1000x400 with 2 Axes>"
      ]
     },
     "metadata": {},
     "output_type": "display_data"
    }
   ],
   "source": [
    "\n",
    "def audio_to_mel_spectrogram(file_path, sr=16000, n_mels=128, max_len=10):\n",
    "    # 1. Загрузка аудио\n",
    "    y, _ = librosa.load(file_path, sr=sr)\n",
    "    # 2. Преобразуем в Mel-спектрограмму (частоты воспринимаются как у человека)\n",
    "    mel_spec = librosa.feature.melspectrogram(y=y, sr=sr, n_mels=n_mels)\n",
    "    # 3. Переводим в логарифмическую шкалу\n",
    "    log_mel_spec = librosa.power_to_db(mel_spec, ref=np.max)  # (n_mels, time)\n",
    "    # 4. Транспонируем, чтобы получилось: (время, частоты)\n",
    "    log_mel_spec = log_mel_spec.T\n",
    "    # 5. Паддинг до одинаковой длины (если нужно)\n",
    "    if log_mel_spec.shape[0] < max_len:\n",
    "        pad_width = max_len - log_mel_spec.shape[0]\n",
    "        log_mel_spec = np.pad(log_mel_spec, ((0, pad_width), (0, 0)))\n",
    "    else:\n",
    "        log_mel_spec = log_mel_spec[:max_len, :]\n",
    "    return log_mel_spec  # shape: (max_len, n_mels)\n",
    "# :test_tube: Пример:\n",
    "spec = audio_to_mel_spectrogram(\"Untitled video - Made with Clipchamp (2).wav\")\n",
    "# Визуализация\n",
    "plt.figure(figsize=(10, 4))\n",
    "librosa.display.specshow(spec.T, sr=16000, hop_length=512, x_axis='time', y_axis='mel')\n",
    "plt.title(\"Mel Spectrogram\")\n",
    "plt.colorbar(format='%+2.0f dB')\n",
    "plt.tight_layout()\n",
    "plt.show()"
   ]
  },
  {
   "cell_type": "code",
   "execution_count": 27,
   "id": "aca6da5a-ecc8-405c-b071-30c03394f9b9",
   "metadata": {},
   "outputs": [
    {
     "data": {
      "text/plain": [
       "array([[-80.      , -80.      , -80.      , ..., -80.      , -80.      ,\n",
       "        -80.      ],\n",
       "       [-80.      , -80.      , -80.      , ..., -80.      , -80.      ,\n",
       "        -80.      ],\n",
       "       [-80.      , -80.      , -80.      , ..., -80.      , -80.      ,\n",
       "        -80.      ],\n",
       "       ...,\n",
       "       [-66.28107 , -60.15283 , -61.66503 , ..., -70.79959 , -80.      ,\n",
       "        -80.      ],\n",
       "       [-47.488922, -47.901165, -53.17974 , ..., -74.85751 , -78.49974 ,\n",
       "        -80.      ],\n",
       "       [-43.622597, -45.14041 , -50.67614 , ..., -75.28853 , -79.906   ,\n",
       "        -80.      ]], dtype=float32)"
      ]
     },
     "execution_count": 27,
     "metadata": {},
     "output_type": "execute_result"
    }
   ],
   "source": [
    "spec"
   ]
  },
  {
   "cell_type": "code",
   "execution_count": 28,
   "id": "b0a70b69-978d-4d23-a83b-a21b1bdcbdad",
   "metadata": {},
   "outputs": [
    {
     "data": {
      "text/plain": [
       "(10, 128)"
      ]
     },
     "execution_count": 28,
     "metadata": {},
     "output_type": "execute_result"
    }
   ],
   "source": [
    "spec.shape"
   ]
  },
  {
   "cell_type": "code",
   "execution_count": 29,
   "id": "ae45cb0c-a3fc-4a56-bad8-9697ce22fb1e",
   "metadata": {},
   "outputs": [],
   "source": [
    "spec = spec.reshape(1, 10, 128, 1)"
   ]
  },
  {
   "cell_type": "code",
   "execution_count": 31,
   "id": "3312f988-99e1-4cb6-ab31-1a66b93b0dc5",
   "metadata": {},
   "outputs": [
    {
     "name": "stdout",
     "output_type": "stream",
     "text": [
      "\u001b[1m1/1\u001b[0m \u001b[32m━━━━━━━━━━━━━━━━━━━━\u001b[0m\u001b[37m\u001b[0m \u001b[1m0s\u001b[0m 35ms/step\n"
     ]
    },
    {
     "data": {
      "text/plain": [
       "np.int64(4)"
      ]
     },
     "execution_count": 31,
     "metadata": {},
     "output_type": "execute_result"
    }
   ],
   "source": [
    "np.argmax(model.predict(spec))"
   ]
  },
  {
   "cell_type": "code",
   "execution_count": null,
   "id": "2dd05a5a-7592-44e1-af59-cc8729e6d1e6",
   "metadata": {},
   "outputs": [],
   "source": [
    "def predict(data):\n",
    "    data = audio_to_mel_spectrogram(data)\n",
    "    return np.argmax(model.predict(data))\n",
    "print(predict('4.wav'))"
   ]
  }
 ],
 "metadata": {
  "kernelspec": {
   "display_name": "Python 3 (ipykernel)",
   "language": "python",
   "name": "python3"
  },
  "language_info": {
   "codemirror_mode": {
    "name": "ipython",
    "version": 3
   },
   "file_extension": ".py",
   "mimetype": "text/x-python",
   "name": "python",
   "nbconvert_exporter": "python",
   "pygments_lexer": "ipython3",
   "version": "3.11.2"
  }
 },
 "nbformat": 4,
 "nbformat_minor": 5
}
